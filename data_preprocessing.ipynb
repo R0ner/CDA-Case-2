{
 "cells": [
  {
   "cell_type": "markdown",
   "metadata": {
    "cell_id": "156bbb3c29fa4b8184bcfa3729214bd2",
    "deepnote_cell_type": "text-cell-h2",
    "formattedRanges": []
   },
   "source": [
    "# Prerequisites"
   ]
  },
  {
   "cell_type": "code",
   "execution_count": 1,
   "metadata": {
    "cell_id": "8260c993226646898b3dc28758d76ed9",
    "deepnote_cell_type": "code",
    "deepnote_to_be_reexecuted": false,
    "execution_millis": 3647,
    "execution_start": 1682418027549,
    "source_hash": "dd0d6da7"
   },
   "outputs": [],
   "source": [
    "%load_ext autoreload\n",
    "%autoreload 2\n",
    "\n",
    "import matplotlib.pyplot as plt\n",
    "import numpy as np\n",
    "import pandas as pd\n",
    "from scipy import signal\n",
    "from sklearn.linear_model import LinearRegression\n",
    "\n",
    "from data import get_data"
   ]
  },
  {
   "cell_type": "markdown",
   "metadata": {},
   "source": [
    "# Data preprocessing"
   ]
  },
  {
   "cell_type": "markdown",
   "metadata": {
    "cell_id": "c07361cce6b144c5b1c1109b54135447",
    "deepnote_cell_type": "text-cell-h2",
    "formattedRanges": []
   },
   "source": [
    "## Load data"
   ]
  },
  {
   "cell_type": "code",
   "execution_count": 2,
   "metadata": {},
   "outputs": [],
   "source": [
    "# df = get_data()\n",
    "# df.to_pickle(\"data/data_df.pkl\")\n",
    "df = pd.read_pickle(\"data/data_df.pkl\")\n",
    "\n",
    "n = df.shape[0]"
   ]
  },
  {
   "cell_type": "markdown",
   "metadata": {},
   "source": [
    "## Synchronize biosignal data"
   ]
  },
  {
   "cell_type": "code",
   "execution_count": 3,
   "metadata": {
    "cell_id": "26c9e76a71c343068543d9ab5e9d3685",
    "deepnote_cell_type": "code",
    "deepnote_to_be_reexecuted": false,
    "execution_millis": 9,
    "execution_start": 1682416805696,
    "source_hash": "d1491baa"
   },
   "outputs": [],
   "source": [
    "measurements = [\"BVP\", \"EDA\", \"HR\", \"TEMP\"]"
   ]
  },
  {
   "cell_type": "code",
   "execution_count": 4,
   "metadata": {},
   "outputs": [
    {
     "data": {
      "image/png": "[encoded data removed]",
      "text/plain": [
       "<Figure size 640x480 with 1 Axes>"
      ]
     },
     "metadata": {},
     "output_type": "display_data"
    }
   ],
   "source": [
    "times = []\n",
    "lengths = []\n",
    "m_df_sync = {m: list() for m in measurements}\n",
    "for row in range(n):\n",
    "    phase = int(df.loc[row, 'phase'][-1])\n",
    "    for m in measurements:\n",
    "        m_df = df.loc[row, m]\n",
    "        # print(m_df['time_seconds'].max())\n",
    "        times.append(m_df['time_seconds'].max())\n",
    "\n",
    "plt.hist(times);"
   ]
  },
  {
   "cell_type": "code",
   "execution_count": 12,
   "metadata": {},
   "outputs": [],
   "source": [
    "freqs = {\"BVP\": 64, \"TEMP\": 4, \"EDA\": 4, \"HR\": 1}\n",
    "\n",
    "lengths = []\n",
    "m_df_sync = {m: list() for m in measurements}\n",
    "for row in range(df.shape[0]):\n",
    "    time = np.arange(0, 300, 1 / 64)\n",
    "    fail = False  # Flag for failure upon too little data\n",
    "    for m in measurements:\n",
    "        m_df = df.loc[row, m]\n",
    "        series = m_df[m].to_numpy()\n",
    "        if freqs[m] != 64:\n",
    "            target_len = int(64 / freqs[m] * len(series))\n",
    "            series = signal.resample(series, target_len)\n",
    "\n",
    "        series = series[:time.size]  # Cut off tailing data\n",
    "        \n",
    "        if len(series) != time.size:\n",
    "            diff = time.size - len(series)\n",
    "            series = np.concatenate((series, np.repeat(series.mean, diff)))\n",
    "        m_df_sync[m].append(series)\n",
    "for m, synched in m_df_sync.items():\n",
    "    df[f'{m}_synched'] = synched"
   ]
  },
  {
   "cell_type": "code",
   "execution_count": 13,
   "metadata": {},
   "outputs": [
    {
     "data": {
      "text/html": [
       "<div>\n",
       "<style scoped>\n",
       "    .dataframe tbody tr th:only-of-type {\n",
       "        vertical-align: middle;\n",
       "    }\n",
       "\n",
       "    .dataframe tbody tr th {\n",
       "        vertical-align: top;\n",
       "    }\n",
       "\n",
       "    .dataframe thead th {\n",
       "        text-align: right;\n",
       "    }\n",
       "</style>\n",
       "<table border=\"1\" class=\"dataframe\">\n",
       "  <thead>\n",
       "    <tr style=\"text-align: right;\">\n",
       "      <th></th>\n",
       "      <th>BVP</th>\n",
       "      <th>EDA</th>\n",
       "      <th>HR</th>\n",
       "      <th>TEMP</th>\n",
       "      <th>response</th>\n",
       "      <th>round</th>\n",
       "      <th>phase</th>\n",
       "      <th>participant</th>\n",
       "      <th>BVP_slope</th>\n",
       "      <th>BVP_intercept</th>\n",
       "      <th>EDA_slope</th>\n",
       "      <th>EDA_intercept</th>\n",
       "      <th>HR_slope</th>\n",
       "      <th>HR_intercept</th>\n",
       "      <th>TEMP_slope</th>\n",
       "      <th>TEMP_intercept</th>\n",
       "      <th>BVP_synched</th>\n",
       "      <th>EDA_synched</th>\n",
       "      <th>HR_synched</th>\n",
       "      <th>TEMP_synched</th>\n",
       "    </tr>\n",
       "  </thead>\n",
       "  <tbody>\n",
       "    <tr>\n",
       "      <th>0</th>\n",
       "      <td>BVP                       time  time_...</td>\n",
       "      <td>EDA                    time  time_s...</td>\n",
       "      <td>HR                time  time_seconds\n",
       "0...</td>\n",
       "      <td>TEMP                    time  time_seco...</td>\n",
       "      <td>particpant_ID  puzzler  team_ID   E4_nr  up...</td>\n",
       "      <td>round_1</td>\n",
       "      <td>phase1</td>\n",
       "      <td>(D1_1, ID_1)</td>\n",
       "      <td>0.001264</td>\n",
       "      <td>-0.408534</td>\n",
       "      <td>0.000275</td>\n",
       "      <td>0.185878</td>\n",
       "      <td>0.003339</td>\n",
       "      <td>77.745930</td>\n",
       "      <td>0.000225</td>\n",
       "      <td>31.247527</td>\n",
       "      <td>[-61.33, -56.25, -47.83, -35.69, -20.53, -4.1,...</td>\n",
       "      <td>[0.18582699999999977, 0.1829076670776679, 0.18...</td>\n",
       "      <td>[76.75, 76.727209151694, 76.70528827982247, 76...</td>\n",
       "      <td>[30.970000000000002, 30.94919405798327, 30.931...</td>\n",
       "    </tr>\n",
       "    <tr>\n",
       "      <th>1</th>\n",
       "      <td>BVP                       time  time...</td>\n",
       "      <td>EDA                    time  time_s...</td>\n",
       "      <td>HR                time  time_seconds\n",
       "0...</td>\n",
       "      <td>TEMP                    time  time_seco...</td>\n",
       "      <td>particpant_ID  puzzler  team_ID   E4_nr  up...</td>\n",
       "      <td>round_1</td>\n",
       "      <td>phase2</td>\n",
       "      <td>(D1_1, ID_1)</td>\n",
       "      <td>0.002684</td>\n",
       "      <td>-0.433311</td>\n",
       "      <td>0.000066</td>\n",
       "      <td>0.389471</td>\n",
       "      <td>0.002979</td>\n",
       "      <td>84.673214</td>\n",
       "      <td>0.001565</td>\n",
       "      <td>32.350712</td>\n",
       "      <td>[-3.4, -12.83, -15.64, -14.6, -13.47, -15.57, ...</td>\n",
       "      <td>[0.37293500000000007, 0.3721420514550866, 0.37...</td>\n",
       "      <td>[99.05000000000001, 99.13276287762805, 99.2123...</td>\n",
       "      <td>[32.25, 32.22400479580902, 32.20217554746913, ...</td>\n",
       "    </tr>\n",
       "    <tr>\n",
       "      <th>2</th>\n",
       "      <td>BVP                       time  time_...</td>\n",
       "      <td>EDA                    time  time_s...</td>\n",
       "      <td>HR                time  time_seconds\n",
       "0...</td>\n",
       "      <td>TEMP                    time  time_seco...</td>\n",
       "      <td>particpant_ID  puzzler  team_ID   E4_nr  up...</td>\n",
       "      <td>round_1</td>\n",
       "      <td>phase3</td>\n",
       "      <td>(D1_1, ID_1)</td>\n",
       "      <td>-0.000756</td>\n",
       "      <td>0.254186</td>\n",
       "      <td>-0.000073</td>\n",
       "      <td>0.295791</td>\n",
       "      <td>-0.006082</td>\n",
       "      <td>87.041897</td>\n",
       "      <td>0.000833</td>\n",
       "      <td>32.768604</td>\n",
       "      <td>[-9.1, 6.31, 16.96, 24.92, 33.21, 44.33, 59.3,...</td>\n",
       "      <td>[0.4395760000000001, 0.4465668533347507, 0.452...</td>\n",
       "      <td>[84.41999999999997, 84.39629188721365, 84.3734...</td>\n",
       "      <td>[32.97000000000001, 32.96410203604903, 32.9590...</td>\n",
       "    </tr>\n",
       "    <tr>\n",
       "      <th>3</th>\n",
       "      <td>BVP                       time  time...</td>\n",
       "      <td>EDA                    time  time_s...</td>\n",
       "      <td>HR                time  time_seconds\n",
       "0...</td>\n",
       "      <td>TEMP                    time  time_seco...</td>\n",
       "      <td>particpant_ID  puzzler  team_ID   E4_nr  up...</td>\n",
       "      <td>round_2</td>\n",
       "      <td>phase1</td>\n",
       "      <td>(D1_1, ID_1)</td>\n",
       "      <td>-0.000659</td>\n",
       "      <td>0.066318</td>\n",
       "      <td>-0.000100</td>\n",
       "      <td>0.506500</td>\n",
       "      <td>-0.003443</td>\n",
       "      <td>85.981583</td>\n",
       "      <td>0.001018</td>\n",
       "      <td>33.403930</td>\n",
       "      <td>[-110.39, -93.89, -78.44, -66.28, -57.98, -52....</td>\n",
       "      <td>[0.4946829999999997, 0.49578687423329, 0.49674...</td>\n",
       "      <td>[76.33000000000006, 76.2876193259277, 76.24702...</td>\n",
       "      <td>[33.37, 33.358575048481086, 33.3490854286391, ...</td>\n",
       "    </tr>\n",
       "    <tr>\n",
       "      <th>4</th>\n",
       "      <td>BVP                       time  time_...</td>\n",
       "      <td>EDA                    time  time_s...</td>\n",
       "      <td>HR                time  time_seconds\n",
       "0...</td>\n",
       "      <td>TEMP                    time  time_seco...</td>\n",
       "      <td>particpant_ID  puzzler  team_ID   E4_nr  up...</td>\n",
       "      <td>round_2</td>\n",
       "      <td>phase2</td>\n",
       "      <td>(D1_1, ID_1)</td>\n",
       "      <td>-0.002296</td>\n",
       "      <td>0.395254</td>\n",
       "      <td>-0.000134</td>\n",
       "      <td>0.376909</td>\n",
       "      <td>-0.005166</td>\n",
       "      <td>85.102968</td>\n",
       "      <td>0.001168</td>\n",
       "      <td>33.711108</td>\n",
       "      <td>[38.31, 44.5, 50.35, 55.65, 60.11, 63.63, 66.4...</td>\n",
       "      <td>[0.3911439999999993, 0.39106217928641135, 0.39...</td>\n",
       "      <td>[83.53000000000003, 83.51060349067826, 83.4920...</td>\n",
       "      <td>[33.709999999999965, 33.6961202327857, 33.6845...</td>\n",
       "    </tr>\n",
       "  </tbody>\n",
       "</table>\n",
       "</div>"
      ],
      "text/plain": [
       "                                                 BVP  \\\n",
       "0           BVP                       time  time_...   \n",
       "1            BVP                       time  time...   \n",
       "2           BVP                       time  time_...   \n",
       "3            BVP                       time  time...   \n",
       "4           BVP                       time  time_...   \n",
       "\n",
       "                                                 EDA  \\\n",
       "0             EDA                    time  time_s...   \n",
       "1             EDA                    time  time_s...   \n",
       "2             EDA                    time  time_s...   \n",
       "3             EDA                    time  time_s...   \n",
       "4             EDA                    time  time_s...   \n",
       "\n",
       "                                                  HR  \\\n",
       "0          HR                time  time_seconds\n",
       "0...   \n",
       "1          HR                time  time_seconds\n",
       "0...   \n",
       "2          HR                time  time_seconds\n",
       "0...   \n",
       "3          HR                time  time_seconds\n",
       "0...   \n",
       "4          HR                time  time_seconds\n",
       "0...   \n",
       "\n",
       "                                                TEMP  \\\n",
       "0         TEMP                    time  time_seco...   \n",
       "1         TEMP                    time  time_seco...   \n",
       "2         TEMP                    time  time_seco...   \n",
       "3         TEMP                    time  time_seco...   \n",
       "4         TEMP                    time  time_seco...   \n",
       "\n",
       "                                            response    round   phase  \\\n",
       "0     particpant_ID  puzzler  team_ID   E4_nr  up...  round_1  phase1   \n",
       "1     particpant_ID  puzzler  team_ID   E4_nr  up...  round_1  phase2   \n",
       "2     particpant_ID  puzzler  team_ID   E4_nr  up...  round_1  phase3   \n",
       "3     particpant_ID  puzzler  team_ID   E4_nr  up...  round_2  phase1   \n",
       "4     particpant_ID  puzzler  team_ID   E4_nr  up...  round_2  phase2   \n",
       "\n",
       "    participant  BVP_slope  BVP_intercept  EDA_slope  EDA_intercept  HR_slope  \\\n",
       "0  (D1_1, ID_1)   0.001264      -0.408534   0.000275       0.185878  0.003339   \n",
       "1  (D1_1, ID_1)   0.002684      -0.433311   0.000066       0.389471  0.002979   \n",
       "2  (D1_1, ID_1)  -0.000756       0.254186  -0.000073       0.295791 -0.006082   \n",
       "3  (D1_1, ID_1)  -0.000659       0.066318  -0.000100       0.506500 -0.003443   \n",
       "4  (D1_1, ID_1)  -0.002296       0.395254  -0.000134       0.376909 -0.005166   \n",
       "\n",
       "   HR_intercept  TEMP_slope  TEMP_intercept  \\\n",
       "0     77.745930    0.000225       31.247527   \n",
       "1     84.673214    0.001565       32.350712   \n",
       "2     87.041897    0.000833       32.768604   \n",
       "3     85.981583    0.001018       33.403930   \n",
       "4     85.102968    0.001168       33.711108   \n",
       "\n",
       "                                         BVP_synched  \\\n",
       "0  [-61.33, -56.25, -47.83, -35.69, -20.53, -4.1,...   \n",
       "1  [-3.4, -12.83, -15.64, -14.6, -13.47, -15.57, ...   \n",
       "2  [-9.1, 6.31, 16.96, 24.92, 33.21, 44.33, 59.3,...   \n",
       "3  [-110.39, -93.89, -78.44, -66.28, -57.98, -52....   \n",
       "4  [38.31, 44.5, 50.35, 55.65, 60.11, 63.63, 66.4...   \n",
       "\n",
       "                                         EDA_synched  \\\n",
       "0  [0.18582699999999977, 0.1829076670776679, 0.18...   \n",
       "1  [0.37293500000000007, 0.3721420514550866, 0.37...   \n",
       "2  [0.4395760000000001, 0.4465668533347507, 0.452...   \n",
       "3  [0.4946829999999997, 0.49578687423329, 0.49674...   \n",
       "4  [0.3911439999999993, 0.39106217928641135, 0.39...   \n",
       "\n",
       "                                          HR_synched  \\\n",
       "0  [76.75, 76.727209151694, 76.70528827982247, 76...   \n",
       "1  [99.05000000000001, 99.13276287762805, 99.2123...   \n",
       "2  [84.41999999999997, 84.39629188721365, 84.3734...   \n",
       "3  [76.33000000000006, 76.2876193259277, 76.24702...   \n",
       "4  [83.53000000000003, 83.51060349067826, 83.4920...   \n",
       "\n",
       "                                        TEMP_synched  \n",
       "0  [30.970000000000002, 30.94919405798327, 30.931...  \n",
       "1  [32.25, 32.22400479580902, 32.20217554746913, ...  \n",
       "2  [32.97000000000001, 32.96410203604903, 32.9590...  \n",
       "3  [33.37, 33.358575048481086, 33.3490854286391, ...  \n",
       "4  [33.709999999999965, 33.6961202327857, 33.6845...  "
      ]
     },
     "execution_count": 13,
     "metadata": {},
     "output_type": "execute_result"
    }
   ],
   "source": [
    "df.head()"
   ]
  },
  {
   "cell_type": "markdown",
   "metadata": {
    "cell_id": "a43cb939ef78452bbb9d1f098c0461d9",
    "deepnote_cell_type": "text-cell-h2",
    "formattedRanges": []
   },
   "source": [
    "## Fit linear model to biosignals"
   ]
  },
  {
   "cell_type": "code",
   "execution_count": 6,
   "metadata": {
    "cell_id": "26c9e76a71c343068543d9ab5e9d3685",
    "deepnote_cell_type": "code",
    "deepnote_to_be_reexecuted": false,
    "execution_millis": 9,
    "execution_start": 1682416805696,
    "source_hash": "d1491baa"
   },
   "outputs": [],
   "source": [
    "measurements = [\"BVP\", \"EDA\", \"HR\", \"TEMP\"]"
   ]
  },
  {
   "cell_type": "code",
   "execution_count": 7,
   "metadata": {},
   "outputs": [
    {
     "data": {
      "text/plain": [
       "<matplotlib.collections.PathCollection at 0x1fdc0da1b70>"
      ]
     },
     "execution_count": 7,
     "metadata": {},
     "output_type": "execute_result"
    },
    {
     "data": {
      "image/png": "[encoded data removed]",
      "text/plain": [
       "<Figure size 640x480 with 1 Axes>"
      ]
     },
     "metadata": {},
     "output_type": "display_data"
    }
   ],
   "source": [
    "slopes, intercepts, labels = [], [], []\n",
    "for row in range(df.shape[0]):\n",
    "    for m in measurements:\n",
    "        m_df = df.loc[row, m]\n",
    "        X = m_df['time_seconds'].to_numpy()\n",
    "        y = m_df[m]\n",
    "        reg = LinearRegression().fit(X.reshape(-1, 1), y)\n",
    "        slope = reg.coef_[0]\n",
    "        intercept = reg.intercept_\n",
    "        intercepts.append(intercept)\n",
    "        slopes.append(slope)\n",
    "        labels.append(m)\n",
    "slopes = np.array(slopes)\n",
    "intercepts = np.array(intercepts)\n",
    "labels = np.array(labels)\n",
    "for m in measurements:\n",
    "    mask = labels == m\n",
    "    df[f'{m}_slope'] = slopes[mask]\n",
    "    df[f'{m}_intercept'] = intercepts[mask]\n",
    "colors = ['blue', 'orange', 'green', 'red']\n",
    "m_to_c = {m: c for m, c in zip(measurements, colors)}\n",
    "plt.scatter(intercepts,\n",
    "            slopes,\n",
    "            c=list(map(lambda m: m_to_c[m], labels)),\n",
    "            s=5,\n",
    "            label=labels)"
   ]
  },
  {
   "cell_type": "code",
   "execution_count": 8,
   "metadata": {
    "cell_id": "6bab7350fb4e4b7ab45b13b89ebca063",
    "deepnote_cell_type": "code",
    "deepnote_to_be_reexecuted": false,
    "execution_millis": 3248,
    "execution_start": 1682417390698,
    "source_hash": "5d903872"
   },
   "outputs": [],
   "source": [
    "# for p in data:\n",
    "#     for m in data[p]:\n",
    "#         if m in measurements:\n",
    "#             for rp in data[p][m]:\n",
    "#                 m_df = data[p][m][rp]\n",
    "#                 X = m_df['time_seconds'].to_numpy()\n",
    "#                 y = m_df[m]\n",
    "#                 reg = LinearRegression().fit(X.reshape(-1, 1), y)\n",
    "#                 slope = reg.coef_[0]\n",
    "#                 intercept = reg.intercept_\n",
    "#                 print(p, m, rp)\n",
    "#                 print(slope)"
   ]
  }
 ],
 "metadata": {
  "deepnote": {},
  "deepnote_execution_queue": [],
  "deepnote_notebook_id": "26850c98dbf94fba96aef2293e494b6e",
  "kernelspec": {
   "display_name": "Python 3 (ipykernel)",
   "language": "python",
   "name": "python3"
  },
  "language_info": {
   "codemirror_mode": {
    "name": "ipython",
    "version": 3
   },
   "file_extension": ".py",
   "mimetype": "text/x-python",
   "name": "python",
   "nbconvert_exporter": "python",
   "pygments_lexer": "ipython3",
   "version": "3.10.9"
  }
 },
 "nbformat": 4,
 "nbformat_minor": 4
}
